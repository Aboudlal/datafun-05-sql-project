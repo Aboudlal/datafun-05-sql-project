{
 "cells": [
  {
   "cell_type": "markdown",
   "id": "25e423d7",
   "metadata": {},
   "source": [
    "\n",
    "# Project EDA — Authors & Books (Step 3)\n",
    "\n",
    "This notebook implements the **guided EDA** for the P5 project using the 1→Many schema (**authors → books**) stored in `project.sqlite3`.\n",
    "\n",
    "> Run `db01_setup.py` first to (re)build the database.\n"
   ]
  },
  {
   "cell_type": "code",
   "execution_count": 47,
   "id": "edcd4053",
   "metadata": {},
   "outputs": [
    {
     "name": "stdout",
     "output_type": "stream",
     "text": [
      "Using DB: C:\\Repos\\datafun-05-sql-project\\project.sqlite3\n"
     ]
    }
   ],
   "source": [
    "\n",
    "from pathlib import Path\n",
    "import sqlite3\n",
    "import pandas as pd\n",
    "\n",
    "DB_PATH = Path(\"project.sqlite3\")\n",
    "\n",
    "def df_sql(sql: str, params: tuple | None = None) -> pd.DataFrame:\n",
    "    \"\"\"Execute a SELECT and return a DataFrame.\"\"\"\n",
    "    with sqlite3.connect(DB_PATH) as con:\n",
    "        return pd.read_sql_query(sql, con, params=params)\n",
    "\n",
    "def run_sql(sql: str) -> None:\n",
    "    \"\"\"Execute non-SELECT SQL (DDL/DML).\"\"\"\n",
    "    with sqlite3.connect(DB_PATH) as con:\n",
    "        con.execute(\"PRAGMA foreign_keys = ON;\")\n",
    "        con.executescript(sql)\n",
    "\n",
    "print(\"Using DB:\", DB_PATH.resolve())\n"
   ]
  },
  {
   "cell_type": "code",
   "execution_count": 48,
   "id": "eb1bf138",
   "metadata": {},
   "outputs": [
    {
     "name": "stdout",
     "output_type": "stream",
     "text": [
      "CWD: C:\\Repos\\datafun-05-sql-project | DB exists: True\n"
     ]
    }
   ],
   "source": [
    "import os, pathlib\n",
    "\n",
    "# Set Working Directory to Project Root and Verify DB\n",
    "os.chdir(r\"C:\\Repos\\datafun-05-sql-project\")\n",
    "\n",
    "print(\"CWD:\", os.getcwd(), \"| DB exists:\", pathlib.Path(\"project.sqlite3\").exists())\n"
   ]
  },
  {
   "cell_type": "markdown",
   "id": "aef0774a",
   "metadata": {},
   "source": [
    "## Inspect tables"
   ]
  },
  {
   "cell_type": "code",
   "execution_count": 49,
   "id": "a22ac5de",
   "metadata": {},
   "outputs": [
    {
     "data": {
      "text/plain": [
       "['authors', 'books']"
      ]
     },
     "execution_count": 49,
     "metadata": {},
     "output_type": "execute_result"
    }
   ],
   "source": [
    "\n",
    "with sqlite3.connect(DB_PATH) as con:\n",
    "    cur = con.cursor()\n",
    "    cur.execute(\"SELECT name FROM sqlite_master WHERE type='table' ORDER BY name;\")\n",
    "    tables = [r[0] for r in cur.fetchall()]\n",
    "tables\n"
   ]
  },
  {
   "cell_type": "markdown",
   "id": "0eadfdee",
   "metadata": {},
   "source": [
    "## Load `authors` and `books`"
   ]
  },
  {
   "cell_type": "code",
   "execution_count": 50,
   "id": "99e30a2e",
   "metadata": {},
   "outputs": [
    {
     "data": {
      "text/html": [
       "<div>\n",
       "<style scoped>\n",
       "    .dataframe tbody tr th:only-of-type {\n",
       "        vertical-align: middle;\n",
       "    }\n",
       "\n",
       "    .dataframe tbody tr th {\n",
       "        vertical-align: top;\n",
       "    }\n",
       "\n",
       "    .dataframe thead th {\n",
       "        text-align: right;\n",
       "    }\n",
       "</style>\n",
       "<table border=\"1\" class=\"dataframe\">\n",
       "  <thead>\n",
       "    <tr style=\"text-align: right;\">\n",
       "      <th></th>\n",
       "      <th>author_id</th>\n",
       "      <th>name</th>\n",
       "      <th>country</th>\n",
       "    </tr>\n",
       "  </thead>\n",
       "  <tbody>\n",
       "    <tr>\n",
       "      <th>0</th>\n",
       "      <td>a1</td>\n",
       "      <td>Yasmina Khadra</td>\n",
       "      <td>Algeria</td>\n",
       "    </tr>\n",
       "    <tr>\n",
       "      <th>1</th>\n",
       "      <td>a2</td>\n",
       "      <td>Haruki Murakami</td>\n",
       "      <td>Japan</td>\n",
       "    </tr>\n",
       "    <tr>\n",
       "      <th>2</th>\n",
       "      <td>a3</td>\n",
       "      <td>Chimamanda Ngozi Adichie</td>\n",
       "      <td>Nigeria</td>\n",
       "    </tr>\n",
       "    <tr>\n",
       "      <th>3</th>\n",
       "      <td>a4</td>\n",
       "      <td>Gabriel García Márquez</td>\n",
       "      <td>Colombia</td>\n",
       "    </tr>\n",
       "    <tr>\n",
       "      <th>4</th>\n",
       "      <td>a5</td>\n",
       "      <td>Margaret Atwood</td>\n",
       "      <td>Canada</td>\n",
       "    </tr>\n",
       "  </tbody>\n",
       "</table>\n",
       "</div>"
      ],
      "text/plain": [
       "  author_id                      name   country\n",
       "0        a1            Yasmina Khadra   Algeria\n",
       "1        a2           Haruki Murakami     Japan\n",
       "2        a3  Chimamanda Ngozi Adichie   Nigeria\n",
       "3        a4    Gabriel García Márquez  Colombia\n",
       "4        a5           Margaret Atwood    Canada"
      ]
     },
     "execution_count": 50,
     "metadata": {},
     "output_type": "execute_result"
    }
   ],
   "source": [
    "\n",
    "authors = df_sql(\"SELECT * FROM authors;\")\n",
    "books   = df_sql(\"SELECT * FROM books;\")\n",
    "\n",
    "authors.head(5)\n"
   ]
  },
  {
   "cell_type": "code",
   "execution_count": 51,
   "id": "5ae1802e",
   "metadata": {},
   "outputs": [
    {
     "data": {
      "text/html": [
       "<div>\n",
       "<style scoped>\n",
       "    .dataframe tbody tr th:only-of-type {\n",
       "        vertical-align: middle;\n",
       "    }\n",
       "\n",
       "    .dataframe tbody tr th {\n",
       "        vertical-align: top;\n",
       "    }\n",
       "\n",
       "    .dataframe thead th {\n",
       "        text-align: right;\n",
       "    }\n",
       "</style>\n",
       "<table border=\"1\" class=\"dataframe\">\n",
       "  <thead>\n",
       "    <tr style=\"text-align: right;\">\n",
       "      <th></th>\n",
       "      <th>book_id</th>\n",
       "      <th>title</th>\n",
       "      <th>year_published</th>\n",
       "      <th>author_id</th>\n",
       "    </tr>\n",
       "  </thead>\n",
       "  <tbody>\n",
       "    <tr>\n",
       "      <th>0</th>\n",
       "      <td>b1</td>\n",
       "      <td>Ce que le jour doit à la nuit</td>\n",
       "      <td>2008</td>\n",
       "      <td>a1</td>\n",
       "    </tr>\n",
       "    <tr>\n",
       "      <th>1</th>\n",
       "      <td>b2</td>\n",
       "      <td>Kafka on the Shore</td>\n",
       "      <td>2002</td>\n",
       "      <td>a2</td>\n",
       "    </tr>\n",
       "    <tr>\n",
       "      <th>2</th>\n",
       "      <td>b3</td>\n",
       "      <td>Half of a Yellow Sun</td>\n",
       "      <td>2006</td>\n",
       "      <td>a3</td>\n",
       "    </tr>\n",
       "    <tr>\n",
       "      <th>3</th>\n",
       "      <td>b4</td>\n",
       "      <td>One Hundred Years of Solitude</td>\n",
       "      <td>1967</td>\n",
       "      <td>a4</td>\n",
       "    </tr>\n",
       "    <tr>\n",
       "      <th>4</th>\n",
       "      <td>b5</td>\n",
       "      <td>The Handmaid's Tale</td>\n",
       "      <td>1985</td>\n",
       "      <td>a5</td>\n",
       "    </tr>\n",
       "  </tbody>\n",
       "</table>\n",
       "</div>"
      ],
      "text/plain": [
       "  book_id                          title  year_published author_id\n",
       "0      b1  Ce que le jour doit à la nuit            2008        a1\n",
       "1      b2             Kafka on the Shore            2002        a2\n",
       "2      b3           Half of a Yellow Sun            2006        a3\n",
       "3      b4  One Hundred Years of Solitude            1967        a4\n",
       "4      b5            The Handmaid's Tale            1985        a5"
      ]
     },
     "execution_count": 51,
     "metadata": {},
     "output_type": "execute_result"
    }
   ],
   "source": [
    "books.head(5)"
   ]
  },
  {
   "cell_type": "markdown",
   "id": "1ede0cac",
   "metadata": {},
   "source": [
    "## Data quality checks"
   ]
  },
  {
   "cell_type": "code",
   "execution_count": 52,
   "id": "d2c70f1e",
   "metadata": {},
   "outputs": [
    {
     "name": "stdout",
     "output_type": "stream",
     "text": [
      "Authors dtypes:\n",
      " author_id    object\n",
      "name         object\n",
      "country      object\n",
      "dtype: object\n",
      "\n",
      "Books dtypes:\n",
      " book_id           object\n",
      "title             object\n",
      "year_published     int64\n",
      "author_id         object\n",
      "dtype: object\n",
      "\n",
      "NA counts (authors):\n",
      " author_id    0\n",
      "name         0\n",
      "country      0\n",
      "dtype: int64\n",
      "\n",
      "NA counts (books):\n",
      " book_id           0\n",
      "title             0\n",
      "year_published    0\n",
      "author_id         0\n",
      "dtype: int64\n",
      "\n",
      "Duplicate PKs:\n",
      "authors.author_id dupes: 0\n",
      "books.book_id dupes: 0\n"
     ]
    }
   ],
   "source": [
    "\n",
    "print(\"Authors dtypes:\\n\", authors.dtypes)\n",
    "print(\"\\nBooks dtypes:\\n\", books.dtypes)\n",
    "\n",
    "print(\"\\nNA counts (authors):\\n\", authors.isna().sum())\n",
    "print(\"\\nNA counts (books):\\n\", books.isna().sum())\n",
    "\n",
    "print(\"\\nDuplicate PKs:\")\n",
    "print(\"authors.author_id dupes:\", authors['author_id'].duplicated().sum())\n",
    "print(\"books.book_id dupes:\", books['book_id'].duplicated().sum())\n"
   ]
  },
  {
   "cell_type": "markdown",
   "id": "28364590",
   "metadata": {},
   "source": [
    "## Verify 1→Many via join"
   ]
  },
  {
   "cell_type": "code",
   "execution_count": 53,
   "id": "fd65f560",
   "metadata": {},
   "outputs": [
    {
     "data": {
      "text/html": [
       "<div>\n",
       "<style scoped>\n",
       "    .dataframe tbody tr th:only-of-type {\n",
       "        vertical-align: middle;\n",
       "    }\n",
       "\n",
       "    .dataframe tbody tr th {\n",
       "        vertical-align: top;\n",
       "    }\n",
       "\n",
       "    .dataframe thead th {\n",
       "        text-align: right;\n",
       "    }\n",
       "</style>\n",
       "<table border=\"1\" class=\"dataframe\">\n",
       "  <thead>\n",
       "    <tr style=\"text-align: right;\">\n",
       "      <th></th>\n",
       "      <th>book_id</th>\n",
       "      <th>title</th>\n",
       "      <th>year_published</th>\n",
       "      <th>author_id</th>\n",
       "      <th>author_name</th>\n",
       "      <th>country</th>\n",
       "    </tr>\n",
       "  </thead>\n",
       "  <tbody>\n",
       "    <tr>\n",
       "      <th>0</th>\n",
       "      <td>b1</td>\n",
       "      <td>Ce que le jour doit à la nuit</td>\n",
       "      <td>2008</td>\n",
       "      <td>a1</td>\n",
       "      <td>Yasmina Khadra</td>\n",
       "      <td>Algeria</td>\n",
       "    </tr>\n",
       "    <tr>\n",
       "      <th>1</th>\n",
       "      <td>b3</td>\n",
       "      <td>Half of a Yellow Sun</td>\n",
       "      <td>2006</td>\n",
       "      <td>a3</td>\n",
       "      <td>Chimamanda Ngozi Adichie</td>\n",
       "      <td>Nigeria</td>\n",
       "    </tr>\n",
       "    <tr>\n",
       "      <th>2</th>\n",
       "      <td>b2</td>\n",
       "      <td>Kafka on the Shore</td>\n",
       "      <td>2002</td>\n",
       "      <td>a2</td>\n",
       "      <td>Haruki Murakami</td>\n",
       "      <td>Japan</td>\n",
       "    </tr>\n",
       "    <tr>\n",
       "      <th>3</th>\n",
       "      <td>b8</td>\n",
       "      <td>Harry Potter and the Philosopher's Stone</td>\n",
       "      <td>1997</td>\n",
       "      <td>a7</td>\n",
       "      <td>J.K. Rowling</td>\n",
       "      <td>UK</td>\n",
       "    </tr>\n",
       "    <tr>\n",
       "      <th>4</th>\n",
       "      <td>b5</td>\n",
       "      <td>The Handmaid's Tale</td>\n",
       "      <td>1985</td>\n",
       "      <td>a5</td>\n",
       "      <td>Margaret Atwood</td>\n",
       "      <td>Canada</td>\n",
       "    </tr>\n",
       "    <tr>\n",
       "      <th>5</th>\n",
       "      <td>b9</td>\n",
       "      <td>The House of the Spirits</td>\n",
       "      <td>1982</td>\n",
       "      <td>a8</td>\n",
       "      <td>Isabel Allende</td>\n",
       "      <td>Chile</td>\n",
       "    </tr>\n",
       "    <tr>\n",
       "      <th>6</th>\n",
       "      <td>b4</td>\n",
       "      <td>One Hundred Years of Solitude</td>\n",
       "      <td>1967</td>\n",
       "      <td>a4</td>\n",
       "      <td>Gabriel García Márquez</td>\n",
       "      <td>Colombia</td>\n",
       "    </tr>\n",
       "    <tr>\n",
       "      <th>7</th>\n",
       "      <td>b6</td>\n",
       "      <td>1984</td>\n",
       "      <td>1949</td>\n",
       "      <td>a6</td>\n",
       "      <td>George Orwell</td>\n",
       "      <td>UK</td>\n",
       "    </tr>\n",
       "    <tr>\n",
       "      <th>8</th>\n",
       "      <td>b7</td>\n",
       "      <td>Animal Farm</td>\n",
       "      <td>1945</td>\n",
       "      <td>a6</td>\n",
       "      <td>George Orwell</td>\n",
       "      <td>UK</td>\n",
       "    </tr>\n",
       "    <tr>\n",
       "      <th>9</th>\n",
       "      <td>b10</td>\n",
       "      <td>The Stranger</td>\n",
       "      <td>1942</td>\n",
       "      <td>a9</td>\n",
       "      <td>Albert Camus</td>\n",
       "      <td>France</td>\n",
       "    </tr>\n",
       "  </tbody>\n",
       "</table>\n",
       "</div>"
      ],
      "text/plain": [
       "  book_id                                     title  year_published author_id  \\\n",
       "0      b1             Ce que le jour doit à la nuit            2008        a1   \n",
       "1      b3                      Half of a Yellow Sun            2006        a3   \n",
       "2      b2                        Kafka on the Shore            2002        a2   \n",
       "3      b8  Harry Potter and the Philosopher's Stone            1997        a7   \n",
       "4      b5                       The Handmaid's Tale            1985        a5   \n",
       "5      b9                  The House of the Spirits            1982        a8   \n",
       "6      b4             One Hundred Years of Solitude            1967        a4   \n",
       "7      b6                                      1984            1949        a6   \n",
       "8      b7                               Animal Farm            1945        a6   \n",
       "9     b10                              The Stranger            1942        a9   \n",
       "\n",
       "                author_name   country  \n",
       "0            Yasmina Khadra   Algeria  \n",
       "1  Chimamanda Ngozi Adichie   Nigeria  \n",
       "2           Haruki Murakami     Japan  \n",
       "3              J.K. Rowling        UK  \n",
       "4           Margaret Atwood    Canada  \n",
       "5            Isabel Allende     Chile  \n",
       "6    Gabriel García Márquez  Colombia  \n",
       "7             George Orwell        UK  \n",
       "8             George Orwell        UK  \n",
       "9              Albert Camus    France  "
      ]
     },
     "execution_count": 53,
     "metadata": {},
     "output_type": "execute_result"
    }
   ],
   "source": [
    "\n",
    "joined = df_sql('''\n",
    "SELECT b.book_id, b.title, b.year_published,\n",
    "       a.author_id, a.name AS author_name, a.country\n",
    "FROM books b\n",
    "JOIN authors a ON b.author_id = a.author_id\n",
    "ORDER BY b.year_published DESC;\n",
    "''')\n",
    "joined.head(10)\n"
   ]
  },
  {
   "cell_type": "markdown",
   "id": "f5cb6887",
   "metadata": {},
   "source": [
    "## EDA questions"
   ]
  },
  {
   "cell_type": "code",
   "execution_count": 54,
   "id": "6658f5e1",
   "metadata": {},
   "outputs": [
    {
     "data": {
      "text/html": [
       "<div>\n",
       "<style scoped>\n",
       "    .dataframe tbody tr th:only-of-type {\n",
       "        vertical-align: middle;\n",
       "    }\n",
       "\n",
       "    .dataframe tbody tr th {\n",
       "        vertical-align: top;\n",
       "    }\n",
       "\n",
       "    .dataframe thead th {\n",
       "        text-align: right;\n",
       "    }\n",
       "</style>\n",
       "<table border=\"1\" class=\"dataframe\">\n",
       "  <thead>\n",
       "    <tr style=\"text-align: right;\">\n",
       "      <th></th>\n",
       "      <th>author_name</th>\n",
       "      <th>num_books</th>\n",
       "    </tr>\n",
       "  </thead>\n",
       "  <tbody>\n",
       "    <tr>\n",
       "      <th>0</th>\n",
       "      <td>George Orwell</td>\n",
       "      <td>2</td>\n",
       "    </tr>\n",
       "    <tr>\n",
       "      <th>1</th>\n",
       "      <td>Albert Camus</td>\n",
       "      <td>1</td>\n",
       "    </tr>\n",
       "    <tr>\n",
       "      <th>2</th>\n",
       "      <td>Chimamanda Ngozi Adichie</td>\n",
       "      <td>1</td>\n",
       "    </tr>\n",
       "    <tr>\n",
       "      <th>3</th>\n",
       "      <td>Gabriel García Márquez</td>\n",
       "      <td>1</td>\n",
       "    </tr>\n",
       "    <tr>\n",
       "      <th>4</th>\n",
       "      <td>Haruki Murakami</td>\n",
       "      <td>1</td>\n",
       "    </tr>\n",
       "    <tr>\n",
       "      <th>5</th>\n",
       "      <td>Isabel Allende</td>\n",
       "      <td>1</td>\n",
       "    </tr>\n",
       "    <tr>\n",
       "      <th>6</th>\n",
       "      <td>J.K. Rowling</td>\n",
       "      <td>1</td>\n",
       "    </tr>\n",
       "    <tr>\n",
       "      <th>7</th>\n",
       "      <td>Margaret Atwood</td>\n",
       "      <td>1</td>\n",
       "    </tr>\n",
       "    <tr>\n",
       "      <th>8</th>\n",
       "      <td>Yasmina Khadra</td>\n",
       "      <td>1</td>\n",
       "    </tr>\n",
       "    <tr>\n",
       "      <th>9</th>\n",
       "      <td>Franz Kafka</td>\n",
       "      <td>0</td>\n",
       "    </tr>\n",
       "  </tbody>\n",
       "</table>\n",
       "</div>"
      ],
      "text/plain": [
       "                author_name  num_books\n",
       "0             George Orwell          2\n",
       "1              Albert Camus          1\n",
       "2  Chimamanda Ngozi Adichie          1\n",
       "3    Gabriel García Márquez          1\n",
       "4           Haruki Murakami          1\n",
       "5            Isabel Allende          1\n",
       "6              J.K. Rowling          1\n",
       "7           Margaret Atwood          1\n",
       "8            Yasmina Khadra          1\n",
       "9               Franz Kafka          0"
      ]
     },
     "execution_count": 54,
     "metadata": {},
     "output_type": "execute_result"
    }
   ],
   "source": [
    "\n",
    "# 1) Count of books per author\n",
    "books_per_author = df_sql('''\n",
    "SELECT a.name AS author_name, COUNT(b.book_id) AS num_books\n",
    "FROM authors a\n",
    "LEFT JOIN books b ON a.author_id = b.author_id\n",
    "GROUP BY a.author_id, a.name\n",
    "ORDER BY num_books DESC, author_name ASC;\n",
    "''')\n",
    "books_per_author\n"
   ]
  },
  {
   "cell_type": "code",
   "execution_count": 55,
   "id": "2b6eba55",
   "metadata": {},
   "outputs": [
    {
     "data": {
      "text/html": [
       "<div>\n",
       "<style scoped>\n",
       "    .dataframe tbody tr th:only-of-type {\n",
       "        vertical-align: middle;\n",
       "    }\n",
       "\n",
       "    .dataframe tbody tr th {\n",
       "        vertical-align: top;\n",
       "    }\n",
       "\n",
       "    .dataframe thead th {\n",
       "        text-align: right;\n",
       "    }\n",
       "</style>\n",
       "<table border=\"1\" class=\"dataframe\">\n",
       "  <thead>\n",
       "    <tr style=\"text-align: right;\">\n",
       "      <th></th>\n",
       "      <th>total_books</th>\n",
       "      <th>earliest_year</th>\n",
       "      <th>latest_year</th>\n",
       "      <th>avg_year</th>\n",
       "    </tr>\n",
       "  </thead>\n",
       "  <tbody>\n",
       "    <tr>\n",
       "      <th>0</th>\n",
       "      <td>10</td>\n",
       "      <td>1942</td>\n",
       "      <td>2008</td>\n",
       "      <td>1978.3</td>\n",
       "    </tr>\n",
       "  </tbody>\n",
       "</table>\n",
       "</div>"
      ],
      "text/plain": [
       "   total_books  earliest_year  latest_year  avg_year\n",
       "0           10           1942         2008    1978.3"
      ]
     },
     "execution_count": 55,
     "metadata": {},
     "output_type": "execute_result"
    }
   ],
   "source": [
    "\n",
    "# 2) Year stats\n",
    "year_stats = df_sql('''\n",
    "SELECT COUNT(*) AS total_books,\n",
    "       MIN(year_published) AS earliest_year,\n",
    "       MAX(year_published) AS latest_year,\n",
    "       AVG(year_published) AS avg_year\n",
    "FROM books;\n",
    "''')\n",
    "year_stats\n"
   ]
  },
  {
   "cell_type": "code",
   "execution_count": 56,
   "id": "e3fb67ef",
   "metadata": {},
   "outputs": [
    {
     "data": {
      "text/html": [
       "<div>\n",
       "<style scoped>\n",
       "    .dataframe tbody tr th:only-of-type {\n",
       "        vertical-align: middle;\n",
       "    }\n",
       "\n",
       "    .dataframe tbody tr th {\n",
       "        vertical-align: top;\n",
       "    }\n",
       "\n",
       "    .dataframe thead th {\n",
       "        text-align: right;\n",
       "    }\n",
       "</style>\n",
       "<table border=\"1\" class=\"dataframe\">\n",
       "  <thead>\n",
       "    <tr style=\"text-align: right;\">\n",
       "      <th></th>\n",
       "      <th>title</th>\n",
       "      <th>year_published</th>\n",
       "    </tr>\n",
       "  </thead>\n",
       "  <tbody>\n",
       "    <tr>\n",
       "      <th>0</th>\n",
       "      <td>The House of the Spirits</td>\n",
       "      <td>1982</td>\n",
       "    </tr>\n",
       "    <tr>\n",
       "      <th>1</th>\n",
       "      <td>The Handmaid's Tale</td>\n",
       "      <td>1985</td>\n",
       "    </tr>\n",
       "    <tr>\n",
       "      <th>2</th>\n",
       "      <td>Harry Potter and the Philosopher's Stone</td>\n",
       "      <td>1997</td>\n",
       "    </tr>\n",
       "    <tr>\n",
       "      <th>3</th>\n",
       "      <td>Kafka on the Shore</td>\n",
       "      <td>2002</td>\n",
       "    </tr>\n",
       "    <tr>\n",
       "      <th>4</th>\n",
       "      <td>Half of a Yellow Sun</td>\n",
       "      <td>2006</td>\n",
       "    </tr>\n",
       "    <tr>\n",
       "      <th>5</th>\n",
       "      <td>Ce que le jour doit à la nuit</td>\n",
       "      <td>2008</td>\n",
       "    </tr>\n",
       "  </tbody>\n",
       "</table>\n",
       "</div>"
      ],
      "text/plain": [
       "                                      title  year_published\n",
       "0                  The House of the Spirits            1982\n",
       "1                       The Handmaid's Tale            1985\n",
       "2  Harry Potter and the Philosopher's Stone            1997\n",
       "3                        Kafka on the Shore            2002\n",
       "4                      Half of a Yellow Sun            2006\n",
       "5             Ce que le jour doit à la nuit            2008"
      ]
     },
     "execution_count": 56,
     "metadata": {},
     "output_type": "execute_result"
    }
   ],
   "source": [
    "\n",
    "# 3) Filter example (books >= 1980)\n",
    "recent_books = df_sql('''\n",
    "SELECT title, year_published\n",
    "FROM books\n",
    "WHERE year_published >= 1980\n",
    "ORDER BY year_published;\n",
    "''')\n",
    "recent_books.head(10)\n"
   ]
  },
  {
   "cell_type": "markdown",
   "id": "93940814",
   "metadata": {},
   "source": [
    "## Chart — Books per author"
   ]
  },
  {
   "cell_type": "code",
   "execution_count": 57,
   "id": "feb1b4ed",
   "metadata": {},
   "outputs": [
    {
     "data": {
      "image/png": "[encoded data removed]",
      "text/plain": [
       "<Figure size 640x480 with 1 Axes>"
      ]
     },
     "metadata": {},
     "output_type": "display_data"
    }
   ],
   "source": [
    "\n",
    "import matplotlib.pyplot as plt\n",
    "\n",
    "plt.figure()\n",
    "plt.bar(books_per_author['author_name'], books_per_author['num_books'])\n",
    "plt.title('Books per Author')\n",
    "plt.xticks(rotation=45, ha='right')\n",
    "plt.ylabel('Count')\n",
    "plt.tight_layout()\n",
    "plt.show()\n"
   ]
  },
  {
   "cell_type": "markdown",
   "id": "7cb123b3",
   "metadata": {},
   "source": [
    "\n",
    "## Findings \n",
    "\n",
    "\n",
    "\n",
    "-  *Data health: Keys remain unique; FKs valid (join has no orphans).*\n",
    "\n",
    "- New record added: Yasmina Khadra — Ce que le jour doit à la nuit (2008).\n",
    "\n",
    "- 1→Many confirmed: Each book still maps to exactly one author; authors can have multiple books.\n",
    "\n",
    "- Book counts by author: George Orwell still has 2 books; all other listed authors (incl. Yasmina Khadra) show 1 book.\n",
    "\n",
    "- Time coverage updated: Publications now span 1942 → 2008 (range 66 years).\n",
    "\n",
    "- Earliest: 1942 (The Stranger).\n",
    "\n",
    "- Latest: 2008 (Ce que le jour doit à la nuit).\n",
    "\n",
    "- Average year: ≈ 1979.1; median: ≈ 1985.\n",
    "\n",
    "- Queries & chart: Aggregations and the “Books per Author” bar chart now include Yasmina Khadra with a count of 1.\n",
    "\n"
   ]
  }
 ],
 "metadata": {
  "kernelspec": {
   "display_name": ".venv",
   "language": "python",
   "name": "python3"
  },
  "language_info": {
   "codemirror_mode": {
    "name": "ipython",
    "version": 3
   },
   "file_extension": ".py",
   "mimetype": "text/x-python",
   "name": "python",
   "nbconvert_exporter": "python",
   "pygments_lexer": "ipython3",
   "version": "3.11.9"
  }
 },
 "nbformat": 4,
 "nbformat_minor": 5
}
